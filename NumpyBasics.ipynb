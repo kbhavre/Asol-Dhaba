{
  "nbformat": 4,
  "nbformat_minor": 0,
  "metadata": {
    "colab": {
      "provenance": [],
      "authorship_tag": "ABX9TyNHVe0ozEzUgODThuPEnU9k",
      "include_colab_link": true
    },
    "kernelspec": {
      "name": "python3",
      "display_name": "Python 3"
    },
    "language_info": {
      "name": "python"
    }
  },
  "cells": [
    {
      "cell_type": "markdown",
      "metadata": {
        "id": "view-in-github",
        "colab_type": "text"
      },
      "source": [
        "<a href=\"https://colab.research.google.com/github/kbhavre/Asol-Dhaba/blob/master/NumpyBasics.ipynb\" target=\"_parent\"><img src=\"https://colab.research.google.com/assets/colab-badge.svg\" alt=\"Open In Colab\"/></a>"
      ]
    },
    {
      "cell_type": "markdown",
      "source": [
        "Calculating the time taken by list"
      ],
      "metadata": {
        "id": "I0olj4_XuZFD"
      }
    },
    {
      "cell_type": "code",
      "execution_count": 4,
      "metadata": {
        "colab": {
          "base_uri": "https://localhost:8080/"
        },
        "id": "_LvNoDpEeedr",
        "outputId": "5808caf2-5c68-483d-87af-c34a629432fe"
      },
      "outputs": [
        {
          "output_type": "stream",
          "name": "stdout",
          "text": [
            "Time for list =  0.001801754999999794\n"
          ]
        }
      ],
      "source": [
        "import numpy as np\n",
        "from time import process_time\n",
        "\n",
        "list1= [i for i in range(10000)]\n",
        "start_time = process_time()\n",
        "list1 = [i+5 for i in range(10000)]\n",
        "end_time = process_time()\n",
        "print(\"Time for list = \",end_time - start_time)"
      ]
    },
    {
      "cell_type": "markdown",
      "source": [
        "Calculating the time taken by Numpy Arrays"
      ],
      "metadata": {
        "id": "8zVgDn04ujo3"
      }
    },
    {
      "cell_type": "code",
      "source": [
        "np_array = np.array([i for i in range(10000)])\n",
        "start_time = process_time()\n",
        "np_array += 5\n",
        "end_time = process_time()\n",
        "print(\"Numpy array time = \", end_time-start_time)"
      ],
      "metadata": {
        "colab": {
          "base_uri": "https://localhost:8080/"
        },
        "id": "46Neu7oxuJ18",
        "outputId": "2faf79fe-0ff7-4d44-cf87-c17db3e853f4"
      },
      "execution_count": 5,
      "outputs": [
        {
          "output_type": "stream",
          "name": "stdout",
          "text": [
            "Numpy array time =  0.0003951759999996085\n"
          ]
        }
      ]
    },
    {
      "cell_type": "markdown",
      "source": [
        "**Creating Arrays**"
      ],
      "metadata": {
        "id": "xJagmsEDuifr"
      }
    },
    {
      "cell_type": "code",
      "source": [
        "# This is how we normally create a list\n",
        "list1 = [1,2,3,4,5]\n",
        "print(list1)\n",
        "type(list1)\n",
        "\n",
        "# Creating an numpy array\n",
        "arr1 = np.array([1,2,3,4,5])\n",
        "print(arr1)\n",
        "type(arr1)\n",
        "\n"
      ],
      "metadata": {
        "colab": {
          "base_uri": "https://localhost:8080/"
        },
        "id": "loN90hOtuKIE",
        "outputId": "b1a9d9b3-6bf2-428b-e19e-d136ee65f448"
      },
      "execution_count": 11,
      "outputs": [
        {
          "output_type": "stream",
          "name": "stdout",
          "text": [
            "[1, 2, 3, 4, 5]\n",
            "[1 2 3 4 5]\n"
          ]
        },
        {
          "output_type": "execute_result",
          "data": {
            "text/plain": [
              "numpy.ndarray"
            ]
          },
          "metadata": {},
          "execution_count": 11
        }
      ]
    },
    {
      "cell_type": "markdown",
      "source": [
        "**Creating Multi dimensional arrays**"
      ],
      "metadata": {
        "id": "hxybnKy_uqtv"
      }
    },
    {
      "cell_type": "code",
      "source": [
        "a = np.array([1,2,3,4])\n",
        "print(a)\n",
        "print(a.shape)\n",
        "\n",
        "b= np.array([(1,2,3,4),(5,6,7,8)])\n",
        "print(b)\n",
        "print(b.shape)\n",
        "\n",
        "c= np.array([(1,2,3,4),(5,6,7,8)], dtype=float)\n",
        "print(c)\n",
        "print(c.shape)"
      ],
      "metadata": {
        "colab": {
          "base_uri": "https://localhost:8080/"
        },
        "id": "RdPb-Rb_vcOG",
        "outputId": "a44f88ec-848a-4468-f238-a030a1a9414a"
      },
      "execution_count": 17,
      "outputs": [
        {
          "output_type": "stream",
          "name": "stdout",
          "text": [
            "[1 2 3 4]\n",
            "(4,)\n",
            "[[1 2 3 4]\n",
            " [5 6 7 8]]\n",
            "(2, 4)\n",
            "[[1. 2. 3. 4.]\n",
            " [5. 6. 7. 8.]]\n",
            "(2, 4)\n"
          ]
        }
      ]
    },
    {
      "cell_type": "markdown",
      "source": [
        "**Initial placeholders in Numpy Arrays**"
      ],
      "metadata": {
        "id": "Bq4P0rbgwQC0"
      }
    },
    {
      "cell_type": "code",
      "source": [
        "x = np.zeros((4,5))\n",
        "print(x)\n",
        "\n",
        "y= np.ones((3,4))\n",
        "print(y)\n",
        "\n",
        "# For arrays of particular values\n",
        "z= np.full((5,4), 5)\n",
        "print(z)"
      ],
      "metadata": {
        "colab": {
          "base_uri": "https://localhost:8080/"
        },
        "id": "FH6YwXVuwVaB",
        "outputId": "5262a67d-274f-482b-8010-db54552328c5"
      },
      "execution_count": 22,
      "outputs": [
        {
          "output_type": "stream",
          "name": "stdout",
          "text": [
            "[[0. 0. 0. 0. 0.]\n",
            " [0. 0. 0. 0. 0.]\n",
            " [0. 0. 0. 0. 0.]\n",
            " [0. 0. 0. 0. 0.]]\n",
            "[[1. 1. 1. 1.]\n",
            " [1. 1. 1. 1.]\n",
            " [1. 1. 1. 1.]]\n",
            "[[5 5 5 5]\n",
            " [5 5 5 5]\n",
            " [5 5 5 5]\n",
            " [5 5 5 5]\n",
            " [5 5 5 5]]\n"
          ]
        }
      ]
    },
    {
      "cell_type": "markdown",
      "source": [
        "**Printing Identity Matrix**"
      ],
      "metadata": {
        "id": "66kc_TzMw6BC"
      }
    },
    {
      "cell_type": "code",
      "source": [
        "# 4X4 matrix\n",
        "a = np.eye(4)\n",
        "print(a)\n",
        "\n",
        "# 3X3 matrix\n",
        "b= np.eye(3)\n",
        "print(b)\n",
        "\n"
      ],
      "metadata": {
        "colab": {
          "base_uri": "https://localhost:8080/"
        },
        "id": "a3eVNQTFw_dP",
        "outputId": "2cdce231-e8b3-4d30-9510-9f3655cbf6b8"
      },
      "execution_count": 24,
      "outputs": [
        {
          "output_type": "stream",
          "name": "stdout",
          "text": [
            "[[1. 0. 0. 0.]\n",
            " [0. 1. 0. 0.]\n",
            " [0. 0. 1. 0.]\n",
            " [0. 0. 0. 1.]]\n",
            "[[1. 0. 0.]\n",
            " [0. 1. 0.]\n",
            " [0. 0. 1.]]\n"
          ]
        }
      ]
    },
    {
      "cell_type": "markdown",
      "source": [
        "**Creating arrays with random values**"
      ],
      "metadata": {
        "id": "WxoSQ2gF8XHe"
      }
    },
    {
      "cell_type": "code",
      "source": [
        "# random values between 0 and 1\n",
        "a = np.random.random((3,4))\n",
        "print(a)\n",
        "\n",
        "# within a specific range\n",
        "b = np.random.randint(1,100,(3,5))\n",
        "print(b)\n",
        "\n",
        "# Arrays of evenly spaced values, based on values\n",
        "c = np.linspace(10,30, 5)\n",
        "print(c)\n",
        "\n",
        "# evenly spaced , based on step\n",
        "d= np.arange(10,30, 5)\n",
        "print(d)"
      ],
      "metadata": {
        "colab": {
          "base_uri": "https://localhost:8080/"
        },
        "id": "WPEcgkSV8buv",
        "outputId": "3080cc50-c67a-47b7-ffa6-f59e32d64788"
      },
      "execution_count": 33,
      "outputs": [
        {
          "output_type": "stream",
          "name": "stdout",
          "text": [
            "[[0.35092562 0.23051111 0.87941544 0.17183649]\n",
            " [0.30941302 0.70894755 0.90260286 0.10854135]\n",
            " [0.1123097  0.7741937  0.70452573 0.91818337]]\n",
            "[[64 98 84 44 67]\n",
            " [77 95 15 99 36]\n",
            " [55 53 41 96 24]]\n",
            "[10. 15. 20. 25. 30.]\n",
            "[10 15 20 25]\n"
          ]
        }
      ]
    },
    {
      "cell_type": "markdown",
      "source": [
        "**ANALYSING A NUMPY ARRAY**"
      ],
      "metadata": {
        "id": "aQKQnPLK9zQU"
      }
    },
    {
      "cell_type": "code",
      "source": [
        "a = np.random.randint(1,90, (5,5))\n",
        "print(a)\n",
        "\n",
        "\n",
        "# array dimension\n",
        "print(a.shape)\n",
        "\n",
        "# No of dimension\n",
        "print(a.ndim)\n",
        "\n",
        "# No. of elements in array\n",
        "print(a.size)\n",
        "\n",
        "# Checking data type of the values present\n",
        "print(a.dtype)"
      ],
      "metadata": {
        "colab": {
          "base_uri": "https://localhost:8080/"
        },
        "id": "68QhZClG94BW",
        "outputId": "b2e197bd-f474-4891-fa48-7f43dfe4b3e0"
      },
      "execution_count": 42,
      "outputs": [
        {
          "output_type": "stream",
          "name": "stdout",
          "text": [
            "[[57 17 50 13 44]\n",
            " [76 89 83 36 34]\n",
            " [12 86 55 37 44]\n",
            " [63 37 28 76 48]\n",
            " [36 42 58 85 77]]\n",
            "(5, 5)\n",
            "2\n",
            "25\n",
            "int64\n"
          ]
        }
      ]
    },
    {
      "cell_type": "markdown",
      "source": [
        "**Mathematical Operations**"
      ],
      "metadata": {
        "id": "WCL-MKy8-pH0"
      }
    },
    {
      "cell_type": "code",
      "source": [
        "a = np.random.randint(0,10,(3,3))\n",
        "b = np.random.randint(10,20,(3,3))\n",
        "\n",
        "print(a)\n",
        "print(b)\n",
        "\n",
        "# print(a+b)\n",
        "# print(a-b)\n",
        "# print(a*b)\n",
        "# print(a/b)\n",
        "\n",
        "# we can also use functions\n",
        "print(np.add(a,b))\n",
        "print(np.subtract(a,b))\n",
        "print(np.multiply(a,b))\n",
        "print(np.divide(a,b))"
      ],
      "metadata": {
        "colab": {
          "base_uri": "https://localhost:8080/"
        },
        "id": "g0fL32Sc-tVx",
        "outputId": "cb375068-87ae-48b5-cc35-7ab5ae8d96ff"
      },
      "execution_count": 47,
      "outputs": [
        {
          "output_type": "stream",
          "name": "stdout",
          "text": [
            "[[9 9 7]\n",
            " [3 2 3]\n",
            " [1 6 6]]\n",
            "[[13 16 11]\n",
            " [17 18 18]\n",
            " [15 14 10]]\n",
            "[[22 25 18]\n",
            " [20 20 21]\n",
            " [16 20 16]]\n",
            "[[ -4  -7  -4]\n",
            " [-14 -16 -15]\n",
            " [-14  -8  -4]]\n",
            "[[117 144  77]\n",
            " [ 51  36  54]\n",
            " [ 15  84  60]]\n",
            "[[0.69230769 0.5625     0.63636364]\n",
            " [0.17647059 0.11111111 0.16666667]\n",
            " [0.06666667 0.42857143 0.6       ]]\n"
          ]
        }
      ]
    },
    {
      "cell_type": "markdown",
      "source": [
        "**Array Manipulation**"
      ],
      "metadata": {
        "id": "0OXV5y8sCzI_"
      }
    },
    {
      "cell_type": "code",
      "source": [
        "a = np.random.randint(0,10, (3,3))\n",
        "print(a)\n",
        "print(a.shape)\n",
        "\n",
        "# Transpose a matrix\n",
        "trans = np.transpose(a)\n",
        "print(trans)\n",
        "print(trans.shape)\n",
        "\n",
        "# Another way of transposing\n",
        "trans2 = a.T\n",
        "print(trans2)\n",
        "print(trans2.shape)\n",
        "\n",
        "# Reshaping an array (Imp)\n",
        "b = np.random.randint(0,10, (2,3))\n",
        "print(b)\n",
        "print(b.shape)\n",
        "\n",
        "c = b.reshape(3,2)\n",
        "print(c)\n",
        "print(c.shape)"
      ],
      "metadata": {
        "colab": {
          "base_uri": "https://localhost:8080/"
        },
        "id": "PjQ1_izbC1t2",
        "outputId": "417a6338-a31d-499d-db5a-bbb91b8ebe0e"
      },
      "execution_count": 53,
      "outputs": [
        {
          "output_type": "stream",
          "name": "stdout",
          "text": [
            "[[4 3 1]\n",
            " [5 0 4]\n",
            " [5 3 8]]\n",
            "(3, 3)\n",
            "[[4 5 5]\n",
            " [3 0 3]\n",
            " [1 4 8]]\n",
            "(3, 3)\n",
            "[[4 5 5]\n",
            " [3 0 3]\n",
            " [1 4 8]]\n",
            "(3, 3)\n",
            "[[1 1 9]\n",
            " [4 8 8]]\n",
            "(2, 3)\n",
            "[[1 1]\n",
            " [9 4]\n",
            " [8 8]]\n",
            "(3, 2)\n"
          ]
        }
      ]
    }
  ]
}